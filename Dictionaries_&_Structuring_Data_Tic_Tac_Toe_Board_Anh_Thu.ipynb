{
  "nbformat": 4,
  "nbformat_minor": 0,
  "metadata": {
    "colab": {
      "name": "Dictionaries & Structuring Data - Tic-Tac-Toe Board- Anh Thu",
      "provenance": [],
      "collapsed_sections": [],
      "authorship_tag": "ABX9TyOpwQkc2aISOALiU7B3EY8f",
      "include_colab_link": true
    },
    "kernelspec": {
      "name": "python3",
      "display_name": "Python 3"
    },
    "language_info": {
      "name": "python"
    }
  },
  "cells": [
    {
      "cell_type": "markdown",
      "metadata": {
        "id": "view-in-github",
        "colab_type": "text"
      },
      "source": [
        "<a href=\"https://colab.research.google.com/github/AnhThuNguyenHuynh/datacracy-atom-NguyenHuynhAnhThu/blob/main/Dictionaries_%26_Structuring_Data_Tic_Tac_Toe_Board_Anh_Thu.ipynb\" target=\"_parent\"><img src=\"https://colab.research.google.com/assets/colab-badge.svg\" alt=\"Open In Colab\"/></a>"
      ]
    },
    {
      "cell_type": "code",
      "metadata": {
        "colab": {
          "base_uri": "https://localhost:8080/"
        },
        "id": "wUckkykyZYrw",
        "outputId": "cee47333-760b-4af4-f324-a54755b3a8bd"
      },
      "source": [
        "theBoard  =  {'top-L':  ' ', 'top-M':  ' ', 'top-R':  ' ',\n",
        "              'mid-L':  ' ', 'mid-M':  ' ', 'mid-R':  ' ',\n",
        "              'low-L':  ' ', 'low-M':  ' ', 'low-R':  ' '}\n",
        "\n",
        "def  printBoard(board):\n",
        "    print(board['top-L']  +  '|' +  board['top-M']  +  '|' +  board['top-R'])\n",
        "    print('-+-+-')\n",
        "    print(board['mid-L']  +  '|' +  board['mid-M']  +  '|' +  board['mid-R'])\n",
        "    print('-+-+-')\n",
        "    print(board['low-L']  +  '|' +  board['low-M']  +  '|' +  board['low-R'])\n",
        "printBoard(theBoard)\n",
        "      \n",
        "\n",
        "      "
      ],
      "execution_count": null,
      "outputs": [
        {
          "output_type": "stream",
          "text": [
            " | | \n",
            "-+-+-\n",
            " | | \n",
            "-+-+-\n",
            " | | \n"
          ],
          "name": "stdout"
        }
      ]
    },
    {
      "cell_type": "code",
      "metadata": {
        "colab": {
          "base_uri": "https://localhost:8080/"
        },
        "id": "lsLUbHXQbMVm",
        "outputId": "5db83d1b-5b88-4613-c7bf-5651a260e9cf"
      },
      "source": [
        "theBoard  =  {'top-L':  ' ', 'top-M':  ' ', 'top-R':  ' ',\n",
        "'mid-L':  ' ', 'mid-M':  'X',  'mid-R':  ' ',\n",
        "'low-L':  ' ', 'low-M':  ' ', 'low-R':  ' '}\n",
        "\n",
        "def  printBoard(board):\n",
        "    print(board['top-L']  +  '|' +  board['top-M']  +  '|' +  board['top-R'])\n",
        "    print('-+-+-')\n",
        "    print(board['mid-L']  +  '|' +  board['mid-M']  +  '|' +  board['mid-R'])\n",
        "    print('-+-+-')\n",
        "    print(board['low-L']  +  '|' +  board['low-M']  +  '|' +  board['low-R'])\n",
        "printBoard(theBoard)\n"
      ],
      "execution_count": null,
      "outputs": [
        {
          "output_type": "stream",
          "text": [
            " | | \n",
            "-+-+-\n",
            " |X| \n",
            "-+-+-\n",
            " | | \n"
          ],
          "name": "stdout"
        }
      ]
    },
    {
      "cell_type": "code",
      "metadata": {
        "colab": {
          "base_uri": "https://localhost:8080/"
        },
        "id": "Rlbqvt1GbgqR",
        "outputId": "08e27843-d968-49a5-ca68-e6e4d1a0341b"
      },
      "source": [
        "theBoard  =  {'top-L':  'O',  'top-M':  'O',  'top-R':  'O',\n",
        "'mid-L':  'X',  'mid-M':  'X',  'mid-R':  ' ',\n",
        "'low-L':  ' ', 'low-M':  ' ', 'low-R':  'X'}\n",
        "\n",
        "def  printBoard(board):\n",
        "    print(board['top-L']  +  '|' +  board['top-M']  +  '|' +  board['top-R'])\n",
        "    print('-+-+-')\n",
        "    print(board['mid-L']  +  '|' +  board['mid-M']  +  '|' +  board['mid-R'])\n",
        "    print('-+-+-')\n",
        "    print(board['low-L']  +  '|' +  board['low-M']  +  '|' +  board['low-R'])\n",
        "printBoard(theBoard)"
      ],
      "execution_count": null,
      "outputs": [
        {
          "output_type": "stream",
          "text": [
            "O|O|O\n",
            "-+-+-\n",
            "X|X| \n",
            "-+-+-\n",
            " | |X\n"
          ],
          "name": "stdout"
        }
      ]
    }
  ]
}