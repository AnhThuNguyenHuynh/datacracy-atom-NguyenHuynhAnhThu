{
  "nbformat": 4,
  "nbformat_minor": 0,
  "metadata": {
    "colab": {
      "name": "Flow Control - A Short Program: Rock, Paper, Scissors - Anh Thu",
      "provenance": [],
      "collapsed_sections": [],
      "authorship_tag": "ABX9TyPMKKsoOtaQMXSIt1hyc+Qe",
      "include_colab_link": true
    },
    "kernelspec": {
      "name": "python3",
      "display_name": "Python 3"
    },
    "language_info": {
      "name": "python"
    }
  },
  "cells": [
    {
      "cell_type": "markdown",
      "metadata": {
        "id": "view-in-github",
        "colab_type": "text"
      },
      "source": [
        "<a href=\"https://colab.research.google.com/github/AnhThuNguyenHuynh/datacracy-atom-NguyenHuynhAnhThu/blob/main/Flow_Control_A_Short_Program_Rock%2C_Paper%2C_Scissors_Anh_Thu.ipynb\" target=\"_parent\"><img src=\"https://colab.research.google.com/assets/colab-badge.svg\" alt=\"Open In Colab\"/></a>"
      ]
    },
    {
      "cell_type": "code",
      "metadata": {
        "id": "aOKvzO56tdR5",
        "colab": {
          "base_uri": "https://localhost:8080/",
          "height": 128
        },
        "outputId": "8755b4bd-e587-4d16-ee03-9ae2efce4361"
      },
      "source": [
        "import random, sys\n",
        "print('ROCK, PAPER, SCISSORS')\n",
        "win = 0\n",
        "losses = 0\n",
        "ties = 0\n",
        "\n",
        "while True: # The main game loop.\n",
        "  print('%s Wins, %s Losses, % Ties' % (wins, losses, ties)) \n",
        "  while True: # The player input loop.\n",
        "    print('Enter your move: (r)ock (p)aper (s)cissors or (q)uit') \n",
        "    playerMove = input() \n",
        "    if playerMove == 'q':\n",
        "      sys.exit() # Quit the program.\n",
        "    if playerMove == 'r' or playerMove == 'p' or playerMove == 's':\n",
        "      break # Break out of the player input loop.\n",
        "    print('Type one of r, P, S, or q.')\n",
        "\n",
        "# Display what the player chose: \n",
        "if player Move == 'r':\n",
        "  print('ROCK versus...')\n",
        "elif player Move == 'p':\n",
        "  print('PAPER versus...')\n",
        "elif player Move == 's':\n",
        "  print('SCISSORS versus...')  \n",
        "\n",
        "\n"
      ],
      "execution_count": 1,
      "outputs": [
        {
          "output_type": "error",
          "ename": "SyntaxError",
          "evalue": "ignored",
          "traceback": [
            "\u001b[0;36m  File \u001b[0;32m\"<ipython-input-1-0b7e678f78fd>\"\u001b[0;36m, line \u001b[0;32m19\u001b[0m\n\u001b[0;31m    if player Move == 'r':\u001b[0m\n\u001b[0m                 ^\u001b[0m\n\u001b[0;31mSyntaxError\u001b[0m\u001b[0;31m:\u001b[0m invalid syntax\n"
          ]
        }
      ]
    }
  ]
}