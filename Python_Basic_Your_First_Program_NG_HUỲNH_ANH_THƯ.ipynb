{
  "nbformat": 4,
  "nbformat_minor": 0,
  "metadata": {
    "colab": {
      "name": "Python Basic - Your First Program- NG. HUỲNH ANH THƯ",
      "provenance": [],
      "collapsed_sections": [],
      "authorship_tag": "ABX9TyNXiB4RNqIFRC9XXIB0/4gw",
      "include_colab_link": true
    },
    "kernelspec": {
      "name": "python3",
      "display_name": "Python 3"
    },
    "language_info": {
      "name": "python"
    }
  },
  "cells": [
    {
      "cell_type": "markdown",
      "metadata": {
        "id": "view-in-github",
        "colab_type": "text"
      },
      "source": [
        "<a href=\"https://colab.research.google.com/github/AnhThuNguyenHuynh/datacracy-atom-NguyenHuynhAnhThu/blob/main/Python_Basic_Your_First_Program_NG_HU%E1%BB%B2NH_ANH_TH%C6%AF.ipynb\" target=\"_parent\"><img src=\"https://colab.research.google.com/assets/colab-badge.svg\" alt=\"Open In Colab\"/></a>"
      ]
    },
    {
      "cell_type": "code",
      "metadata": {
        "colab": {
          "base_uri": "https://localhost:8080/"
        },
        "id": "g0Fkz0N3Dy7S",
        "outputId": "e8a81946-5782-4fa9-aa7d-570ca3eee195"
      },
      "source": [
        "2+2\n",
        "#this is expression, 2 is value, + is operator"
      ],
      "execution_count": null,
      "outputs": [
        {
          "output_type": "execute_result",
          "data": {
            "text/plain": [
              "4"
            ]
          },
          "metadata": {
            "tags": []
          },
          "execution_count": 1
        }
      ]
    },
    {
      "cell_type": "code",
      "metadata": {
        "colab": {
          "base_uri": "https://localhost:8080/"
        },
        "id": "PhGbQ47oIxfC",
        "outputId": "328f282c-1b77-4a42-85e7-df31bd7cc309"
      },
      "source": [
        "2+3*6\n"
      ],
      "execution_count": null,
      "outputs": [
        {
          "output_type": "execute_result",
          "data": {
            "text/plain": [
              "20"
            ]
          },
          "metadata": {
            "tags": []
          },
          "execution_count": 2
        }
      ]
    },
    {
      "cell_type": "code",
      "metadata": {
        "colab": {
          "base_uri": "https://localhost:8080/"
        },
        "id": "Qe2AZRdeI9Ek",
        "outputId": "3a2d8c18-c658-49de-bb6a-039e68d15fdf"
      },
      "source": [
        "(2+3)*6\n"
      ],
      "execution_count": null,
      "outputs": [
        {
          "output_type": "execute_result",
          "data": {
            "text/plain": [
              "30"
            ]
          },
          "metadata": {
            "tags": []
          },
          "execution_count": 3
        }
      ]
    },
    {
      "cell_type": "code",
      "metadata": {
        "colab": {
          "base_uri": "https://localhost:8080/"
        },
        "id": "kR58Kwx-JKhM",
        "outputId": "adbc0b2c-5d94-4f67-cb8b-695d0d3508be"
      },
      "source": [
        "48565878*578453"
      ],
      "execution_count": null,
      "outputs": [
        {
          "output_type": "execute_result",
          "data": {
            "text/plain": [
              "28093077826734"
            ]
          },
          "metadata": {
            "tags": []
          },
          "execution_count": 4
        }
      ]
    },
    {
      "cell_type": "code",
      "metadata": {
        "colab": {
          "base_uri": "https://localhost:8080/"
        },
        "id": "AL4WFIHBJVpW",
        "outputId": "871c5579-c94b-45a6-c910-b628fdea2a56"
      },
      "source": [
        "2**8\n",
        "#exponent"
      ],
      "execution_count": null,
      "outputs": [
        {
          "output_type": "execute_result",
          "data": {
            "text/plain": [
              "256"
            ]
          },
          "metadata": {
            "tags": []
          },
          "execution_count": 5
        }
      ]
    },
    {
      "cell_type": "code",
      "metadata": {
        "colab": {
          "base_uri": "https://localhost:8080/"
        },
        "id": "A-X3IRwsJjVs",
        "outputId": "46b1b610-169b-4434-87bb-da1fb53c0d04"
      },
      "source": [
        "23/7"
      ],
      "execution_count": null,
      "outputs": [
        {
          "output_type": "execute_result",
          "data": {
            "text/plain": [
              "3.2857142857142856"
            ]
          },
          "metadata": {
            "tags": []
          },
          "execution_count": 6
        }
      ]
    },
    {
      "cell_type": "code",
      "metadata": {
        "colab": {
          "base_uri": "https://localhost:8080/"
        },
        "id": "qmFEGFYyJlr0",
        "outputId": "6fb70395-8a06-4c47-c0ae-a3cdfcf18d46"
      },
      "source": [
        "23//7\n",
        "#interger division"
      ],
      "execution_count": null,
      "outputs": [
        {
          "output_type": "execute_result",
          "data": {
            "text/plain": [
              "3"
            ]
          },
          "metadata": {
            "tags": []
          },
          "execution_count": 7
        }
      ]
    },
    {
      "cell_type": "code",
      "metadata": {
        "colab": {
          "base_uri": "https://localhost:8080/"
        },
        "id": "cwY4rDi0J3SS",
        "outputId": "39ec9a19-7837-4978-e996-e41525ece6ab"
      },
      "source": [
        "(5-1)*((7+1)/(3-1))\n",
        "# Python evaluate part of expression until it becomes single value"
      ],
      "execution_count": null,
      "outputs": [
        {
          "output_type": "execute_result",
          "data": {
            "text/plain": [
              "16.0"
            ]
          },
          "metadata": {
            "tags": []
          },
          "execution_count": 8
        }
      ]
    },
    {
      "cell_type": "code",
      "metadata": {
        "colab": {
          "base_uri": "https://localhost:8080/",
          "height": 35
        },
        "id": "OzJc4LZRPI_E",
        "outputId": "fe81300d-acbf-42c9-b0ce-b1e627e18980"
      },
      "source": [
        "'Hello world'\n",
        "# this is string, put in''\n"
      ],
      "execution_count": null,
      "outputs": [
        {
          "output_type": "execute_result",
          "data": {
            "application/vnd.google.colaboratory.intrinsic+json": {
              "type": "string"
            },
            "text/plain": [
              "'Hello world'"
            ]
          },
          "metadata": {
            "tags": []
          },
          "execution_count": 11
        }
      ]
    },
    {
      "cell_type": "code",
      "metadata": {
        "colab": {
          "base_uri": "https://localhost:8080/",
          "height": 35
        },
        "id": "CHtXz1wpP9vt",
        "outputId": "811c45e5-825f-4896-c3d3-db3343b11a42"
      },
      "source": [
        "''\n",
        "#this is blank string"
      ],
      "execution_count": null,
      "outputs": [
        {
          "output_type": "execute_result",
          "data": {
            "application/vnd.google.colaboratory.intrinsic+json": {
              "type": "string"
            },
            "text/plain": [
              "''"
            ]
          },
          "metadata": {
            "tags": []
          },
          "execution_count": 12
        }
      ]
    },
    {
      "cell_type": "code",
      "metadata": {
        "colab": {
          "base_uri": "https://localhost:8080/",
          "height": 35
        },
        "id": "4G4IAKrIQbj8",
        "outputId": "20cc050b-fbfc-42f8-a7b1-7b0e1be48d41"
      },
      "source": [
        "'Anh'+'Thu'\n",
        "#use addition operator to join the string"
      ],
      "execution_count": null,
      "outputs": [
        {
          "output_type": "execute_result",
          "data": {
            "application/vnd.google.colaboratory.intrinsic+json": {
              "type": "string"
            },
            "text/plain": [
              "'AnhThu'"
            ]
          },
          "metadata": {
            "tags": []
          },
          "execution_count": 13
        }
      ]
    },
    {
      "cell_type": "code",
      "metadata": {
        "colab": {
          "base_uri": "https://localhost:8080/",
          "height": 35
        },
        "id": "BthGyMs2R2y2",
        "outputId": "f083b76b-69fd-4479-c735-05445d055c0f"
      },
      "source": [
        "'ANhThu'*3\n",
        "#the * operator can be used to multiplie one string value and one interger value"
      ],
      "execution_count": null,
      "outputs": [
        {
          "output_type": "execute_result",
          "data": {
            "application/vnd.google.colaboratory.intrinsic+json": {
              "type": "string"
            },
            "text/plain": [
              "'ANhThuANhThuANhThu'"
            ]
          },
          "metadata": {
            "tags": []
          },
          "execution_count": 15
        }
      ]
    },
    {
      "cell_type": "code",
      "metadata": {
        "colab": {
          "base_uri": "https://localhost:8080/"
        },
        "id": "p8KMLvj2TI_X",
        "outputId": "93628f3e-529f-489d-d968-7d632cc31c11"
      },
      "source": [
        "#assignment statement\n",
        "spam=40\n",
        "spam"
      ],
      "execution_count": null,
      "outputs": [
        {
          "output_type": "execute_result",
          "data": {
            "text/plain": [
              "40"
            ]
          },
          "metadata": {
            "tags": []
          },
          "execution_count": 19
        }
      ]
    },
    {
      "cell_type": "code",
      "metadata": {
        "colab": {
          "base_uri": "https://localhost:8080/"
        },
        "id": "OQo1-c3ETl-z",
        "outputId": "599af584-f53e-4f40-959d-2306d39f97d2"
      },
      "source": [
        "egg=2\n",
        "spam+egg"
      ],
      "execution_count": null,
      "outputs": [
        {
          "output_type": "execute_result",
          "data": {
            "text/plain": [
              "42"
            ]
          },
          "metadata": {
            "tags": []
          },
          "execution_count": 20
        }
      ]
    },
    {
      "cell_type": "code",
      "metadata": {
        "colab": {
          "base_uri": "https://localhost:8080/"
        },
        "id": "JP406RvcUMpU",
        "outputId": "d244c38b-7fc4-43ca-a87a-dc22d926ba4f"
      },
      "source": [
        "spam+spam+egg"
      ],
      "execution_count": null,
      "outputs": [
        {
          "output_type": "execute_result",
          "data": {
            "text/plain": [
              "82"
            ]
          },
          "metadata": {
            "tags": []
          },
          "execution_count": 21
        }
      ]
    },
    {
      "cell_type": "code",
      "metadata": {
        "colab": {
          "base_uri": "https://localhost:8080/",
          "height": 35
        },
        "id": "0SZkeZHRlAOP",
        "outputId": "935d3767-c640-404f-8429-6ca044421032"
      },
      "source": [
        "spam='hello'\n",
        "spam\n",
        "spam='goodbye'\n",
        "spam"
      ],
      "execution_count": null,
      "outputs": [
        {
          "output_type": "execute_result",
          "data": {
            "application/vnd.google.colaboratory.intrinsic+json": {
              "type": "string"
            },
            "text/plain": [
              "'goodbye'"
            ]
          },
          "metadata": {
            "tags": []
          },
          "execution_count": 29
        }
      ]
    },
    {
      "cell_type": "code",
      "metadata": {
        "colab": {
          "base_uri": "https://localhost:8080/"
        },
        "id": "a01X_2uemKVV",
        "outputId": "cf45a23c-01ef-43bf-fd25-b94294121c51"
      },
      "source": [
        "#this program say hello and ask for my name\n",
        "print('hello, world!')\n",
        "print('What is your name?')"
      ],
      "execution_count": null,
      "outputs": [
        {
          "output_type": "stream",
          "text": [
            "hello, world!\n",
            "What is your name?\n"
          ],
          "name": "stdout"
        }
      ]
    },
    {
      "cell_type": "code",
      "metadata": {
        "colab": {
          "base_uri": "https://localhost:8080/"
        },
        "id": "aQec5BIGm3Hp",
        "outputId": "9e88ee99-2a40-4e74-91b4-4837da715aac"
      },
      "source": [
        "myName=input()"
      ],
      "execution_count": null,
      "outputs": [
        {
          "output_type": "stream",
          "text": [
            "'Nguyen Huynh Anh Thu'\n"
          ],
          "name": "stdout"
        }
      ]
    },
    {
      "cell_type": "code",
      "metadata": {
        "colab": {
          "base_uri": "https://localhost:8080/"
        },
        "id": "06kt3dR9nnmj",
        "outputId": "3fef93cb-4a96-437f-f2e1-e68cec022f95"
      },
      "source": [
        "print('It is good to meet you,'+ myName)"
      ],
      "execution_count": null,
      "outputs": [
        {
          "output_type": "stream",
          "text": [
            "It is good to meet you,'Nguyen Huynh Anh Thu'\n"
          ],
          "name": "stdout"
        }
      ]
    },
    {
      "cell_type": "code",
      "metadata": {
        "colab": {
          "base_uri": "https://localhost:8080/"
        },
        "id": "Om9t4CcVoHPH",
        "outputId": "447fc03c-f687-437e-f59f-c706e5c7de60"
      },
      "source": [
        "print('the lenght of your name is:')\n",
        "print(len(myName))"
      ],
      "execution_count": null,
      "outputs": [
        {
          "output_type": "stream",
          "text": [
            "the lenght of your name is:\n",
            "22\n"
          ],
          "name": "stdout"
        }
      ]
    },
    {
      "cell_type": "code",
      "metadata": {
        "colab": {
          "base_uri": "https://localhost:8080/"
        },
        "id": "HhOEJSFxo8Mb",
        "outputId": "18da5e8d-f3d9-44e7-a095-d67930598342"
      },
      "source": [
        "print('what is your age?')\n",
        "myAge=input()\n",
        "print('you will be ' + str(int(myAge)+1) + ' in a year.')"
      ],
      "execution_count": null,
      "outputs": [
        {
          "output_type": "stream",
          "text": [
            "what is your age?\n",
            "27\n",
            "you will be 28 in a year.\n"
          ],
          "name": "stdout"
        }
      ]
    },
    {
      "cell_type": "code",
      "metadata": {
        "colab": {
          "base_uri": "https://localhost:8080/"
        },
        "id": "hAmppwGcrvyE",
        "outputId": "bc4dbda1-bd65-4077-ac88-27b1540c9ce7"
      },
      "source": [
        "# the s tring, int,  float functions\n",
        "print('I am '+ str(27)+ ' years old')"
      ],
      "execution_count": null,
      "outputs": [
        {
          "output_type": "stream",
          "text": [
            "I am 27 years old\n"
          ],
          "name": "stdout"
        }
      ]
    },
    {
      "cell_type": "code",
      "metadata": {
        "colab": {
          "base_uri": "https://localhost:8080/"
        },
        "id": "sD_-GGCMsUzK",
        "outputId": "d94dfef1-12fa-4baf-9f2c-dbc8894b7af1"
      },
      "source": [
        "int(1.25)"
      ],
      "execution_count": null,
      "outputs": [
        {
          "output_type": "execute_result",
          "data": {
            "text/plain": [
              "1"
            ]
          },
          "metadata": {
            "tags": []
          },
          "execution_count": 44
        }
      ]
    },
    {
      "cell_type": "code",
      "metadata": {
        "colab": {
          "base_uri": "https://localhost:8080/"
        },
        "id": "oHaJfmh3sbhh",
        "outputId": "8d61fa51-8456-4679-cbaa-8a5250c300f2"
      },
      "source": [
        "float(3.14)"
      ],
      "execution_count": null,
      "outputs": [
        {
          "output_type": "execute_result",
          "data": {
            "text/plain": [
              "3.14"
            ]
          },
          "metadata": {
            "tags": []
          },
          "execution_count": 45
        }
      ]
    }
  ]
}